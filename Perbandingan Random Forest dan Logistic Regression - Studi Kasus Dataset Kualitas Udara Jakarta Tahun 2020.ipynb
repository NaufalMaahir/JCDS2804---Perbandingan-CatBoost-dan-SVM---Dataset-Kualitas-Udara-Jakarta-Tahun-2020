{
 "cells": [
  {
   "cell_type": "markdown",
   "id": "31530908",
   "metadata": {},
   "source": [
    "## 1. Pendahuluan\n",
    "\n",
    "Penerapan ML dalam membantu klasifikasi kualitas udara. Tujuan analisis ini adalah membandingkan dua metode (Random Forest dan Logistic Regression) menggunakan data SPKU 2020 yang didapatkan dari website https://satudata.jakarta.go.id/.\n",
    "\n",
    "---"
   ]
  },
  {
   "cell_type": "markdown",
   "id": "5d23720b",
   "metadata": {},
   "source": [
    "## 2. Persiapan Lingkungan dan Import Library"
   ]
  },
  {
   "cell_type": "code",
   "execution_count": 15,
   "id": "81f29f1c",
   "metadata": {},
   "outputs": [],
   "source": [
    "import pandas as pd\n",
    "import matplotlib.pyplot as plt\n",
    "from sklearn.model_selection import train_test_split\n",
    "from catboost import CatBoostClassifier\n",
    "from sklearn.svm import SVC\n",
    "from sklearn.preprocessing import StandardScaler\n",
    "from sklearn.metrics import classification_report, confusion_matrix, ConfusionMatrixDisplay\n",
    "from sklearn.impute import SimpleImputer\n",
    "from sklearn.pipeline import make_pipeline"
   ]
  },
  {
   "cell_type": "markdown",
   "id": "e0788fa8",
   "metadata": {},
   "source": [
    "## 3. Memuat dan Melihat Dataset\n",
    "**Langkah 3:** Muat dataset CSV dan tampilkan nama kolom untuk verifikasi."
   ]
  },
  {
   "cell_type": "code",
   "execution_count": 2,
   "id": "85bacce3",
   "metadata": {},
   "outputs": [
    {
     "name": "stdout",
     "output_type": "stream",
     "text": [
      "Memuat dataset...\n",
      "Kolom pada dataset:\n",
      "['periode_data', 'tanggal', 'stasiun', 'pm10', 'so2', 'co', 'o3', 'no2', 'max', 'critical', 'categori']\n"
     ]
    }
   ],
   "source": [
    "print(\"Memuat dataset...\")\n",
    "df = pd.read_csv('Stasiun Pemantau Kualitas Udara ( SPKU) Tahun 2020.csv')\n",
    "print(\"Kolom pada dataset:\")\n",
    "print(df.columns.tolist())"
   ]
  },
  {
   "cell_type": "markdown",
   "id": "166ed4ff",
   "metadata": {},
   "source": [
    "## 4. Pembersihan Data dan Preprocessing\n",
    "**Langkah 4a: Konversi dan Validasi Tanggal**"
   ]
  },
  {
   "cell_type": "code",
   "execution_count": 3,
   "id": "039c4dcf",
   "metadata": {},
   "outputs": [
    {
     "name": "stdout",
     "output_type": "stream",
     "text": [
      "Baris dengan tanggal invalid: 0\n"
     ]
    },
    {
     "name": "stderr",
     "output_type": "stream",
     "text": [
      "/var/folders/rb/swpbdkdx0wqdp48gb6zpkpj40000gn/T/ipykernel_3466/1955351900.py:2: UserWarning: Could not infer format, so each element will be parsed individually, falling back to `dateutil`. To ensure parsing is consistent and as-expected, please specify a format.\n",
      "  df['tanggal'] = pd.to_datetime(df['tanggal'], errors='coerce')\n"
     ]
    }
   ],
   "source": [
    "# Konversi tanggal ke datetime, invalid format jadi NaT\n",
    "df['tanggal'] = pd.to_datetime(df['tanggal'], errors='coerce')\n",
    "print(f\"Baris dengan tanggal invalid: {df['tanggal'].isna().sum()}\")"
   ]
  },
  {
   "cell_type": "markdown",
   "id": "15eafe15",
   "metadata": {},
   "source": [
    "**Langkah 4b: Tangani Missing Values**\n"
   ]
  },
  {
   "cell_type": "code",
   "execution_count": 4,
   "id": "eff15e57",
   "metadata": {},
   "outputs": [
    {
     "name": "stdout",
     "output_type": "stream",
     "text": [
      "Baris setelah drop kategori: 1830 dari 1830\n",
      "Baris setelah imputasi: 1830 dari 1830\n"
     ]
    }
   ],
   "source": [
    "# Drop missing pada kolom kategori saja (tanggal NaT masih bisa diproses)\n",
    "df_cat = df.dropna(subset=['categori'])\n",
    "print(f\"Baris setelah drop kategori: {len(df_cat)} dari {len(df)}\")\n",
    "\n",
    "# Ganti '---' dengan NaN pada kolom polutan\n",
    "cols_polutan = ['pm10','so2','co','o3','no2']\n",
    "df_cat[cols_polutan] = df_cat[cols_polutan].replace('---', pd.NA)\n",
    "\n",
    "# Ubah kolom-kolom polutan ke float\n",
    "df_cat[cols_polutan] = df_cat[cols_polutan].fillna(0).astype(float)\n",
    "\n",
    "# Imputasi median pada kolom polutan\n",
    "df_imputed = df_cat.copy()\n",
    "df_imputed[cols_polutan] = SimpleImputer(strategy='median').fit_transform(df_cat[cols_polutan])\n",
    "print(f\"Baris setelah imputasi: {len(df_imputed)} dari {len(df_cat)}\")\n",
    "\n",
    "# Gunakan hasilnya sebagai df_processed\n",
    "df_processed = df_imputed"
   ]
  },
  {
   "cell_type": "markdown",
   "id": "e8703f39",
   "metadata": {},
   "source": [
    "**Langkah 4c: Encode Label dan Cek Kategori**"
   ]
  },
  {
   "cell_type": "code",
   "execution_count": 5,
   "id": "779992a1",
   "metadata": {},
   "outputs": [
    {
     "name": "stdout",
     "output_type": "stream",
     "text": [
      "Kategori unik sebelum mapping:\n",
      "['BAIK' 'SEDANG' 'TIDAK SEHAT' 'TIDAK ADA DATA' 'SANGAT TIDAK SEHAT']\n"
     ]
    }
   ],
   "source": [
    "# Lihat kategori unik sebelum mapping\n",
    "print(\"Kategori unik sebelum mapping:\")\n",
    "print(df_processed['categori'].unique())"
   ]
  },
  {
   "cell_type": "code",
   "execution_count": 6,
   "id": "393c4369",
   "metadata": {},
   "outputs": [],
   "source": [
    "df_processed['Label'] = df_processed['categori'].apply(lambda x: 0 if x.strip().upper() == 'BAIK' else 1)"
   ]
  },
  {
   "cell_type": "code",
   "execution_count": 7,
   "id": "a60fba3b",
   "metadata": {},
   "outputs": [
    {
     "name": "stdout",
     "output_type": "stream",
     "text": [
      "Jumlah baris setelah preprocessing: 1830\n",
      "Distribusi label (0=Baik,1=Tidak Baik):\n",
      "Label\n",
      "1    1445\n",
      "0     385\n",
      "Name: count, dtype: int64\n"
     ]
    }
   ],
   "source": [
    "# Cek jumlah baris dan distribusi label\n",
    "print(f\"Jumlah baris setelah preprocessing: {len(df_processed)}\")\n",
    "print(\"Distribusi label (0=Baik,1=Tidak Baik):\")\n",
    "print(df_processed['Label'].value_counts(dropna=False))"
   ]
  },
  {
   "cell_type": "markdown",
   "id": "1c001ecc",
   "metadata": {},
   "source": [
    "## 5. Data Splitting"
   ]
  },
  {
   "cell_type": "code",
   "execution_count": 8,
   "id": "9819e34f",
   "metadata": {},
   "outputs": [],
   "source": [
    "features = ['pm10','so2','co','o3','no2']\n",
    "X = df_processed[features]\n",
    "y = df_processed['Label']"
   ]
  },
  {
   "cell_type": "code",
   "execution_count": 9,
   "id": "042973a4",
   "metadata": {},
   "outputs": [],
   "source": [
    "from sklearn.model_selection import train_test_split\n",
    "\n",
    "try:\n",
    "    X_train, X_test, y_train, y_test = train_test_split(\n",
    "        X, y,\n",
    "        test_size=0.2,\n",
    "        random_state=42,\n",
    "        stratify=y\n",
    "    )\n",
    "except ValueError as e:\n",
    "    print(\"Stratify gagal:\", e)\n",
    "    print(\"Mencoba split tanpa stratify...\")\n",
    "    X_train, X_test, y_train, y_test = train_test_split(\n",
    "        X, y,\n",
    "        test_size=0.2,\n",
    "        random_state=42\n",
    "    )"
   ]
  },
  {
   "cell_type": "markdown",
   "id": "bce3962d",
   "metadata": {},
   "source": [
    "## 6. Pelatihan Model dan Evaluasi\n",
    "\n",
    "### 6.1 CatBoost"
   ]
  },
  {
   "cell_type": "code",
   "execution_count": 12,
   "id": "c2e3f8bb",
   "metadata": {},
   "outputs": [
    {
     "name": "stdout",
     "output_type": "stream",
     "text": [
      "=== CatBoost ===\n",
      "              precision    recall  f1-score   support\n",
      "\n",
      "           0       0.96      0.97      0.97        77\n",
      "           1       0.99      0.99      0.99       289\n",
      "\n",
      "    accuracy                           0.99       366\n",
      "   macro avg       0.98      0.98      0.98       366\n",
      "weighted avg       0.99      0.99      0.99       366\n",
      "\n",
      "Confusion Matrix:\n",
      " [[ 75   2]\n",
      " [  3 286]]\n"
     ]
    }
   ],
   "source": [
    "catb = CatBoostClassifier(\n",
    "    iterations=500,\n",
    "    learning_rate=0.1,\n",
    "    depth=6,\n",
    "    loss_function='MultiClass',\n",
    "    verbose=False,\n",
    "    random_state=42\n",
    ")\n",
    "catb.fit(X_train, y_train)\n",
    "y_pred_catb = catb.predict(X_test)\n",
    "print(\"=== CatBoost ===\")\n",
    "print(classification_report(y_test, y_pred_catb))\n",
    "print(\"Confusion Matrix:\\n\", confusion_matrix(y_test, y_pred_catb))"
   ]
  },
  {
   "cell_type": "markdown",
   "id": "26e60889",
   "metadata": {},
   "source": [
    "### 6.2 SVM\n"
   ]
  },
  {
   "cell_type": "code",
   "execution_count": 14,
   "id": "5f949078",
   "metadata": {},
   "outputs": [
    {
     "name": "stdout",
     "output_type": "stream",
     "text": [
      "=== SVM (RBF) ===\n",
      "              precision    recall  f1-score   support\n",
      "\n",
      "           0       0.82      0.97      0.89        77\n",
      "           1       0.99      0.94      0.97       289\n",
      "\n",
      "    accuracy                           0.95       366\n",
      "   macro avg       0.90      0.96      0.93       366\n",
      "weighted avg       0.96      0.95      0.95       366\n",
      "\n",
      "Confusion Matrix:\n",
      " [[ 75   2]\n",
      " [ 17 272]]\n"
     ]
    }
   ],
   "source": [
    "svm = make_pipeline(\n",
    "    StandardScaler(),\n",
    "    SVC(kernel='rbf', class_weight='balanced', probability=True, random_state=42)\n",
    ")\n",
    "svm.fit(X_train, y_train)\n",
    "y_pred_svm = svm.predict(X_test)\n",
    "print(\"=== SVM (RBF) ===\")\n",
    "print(classification_report(y_test, y_pred_svm))\n",
    "print(\"Confusion Matrix:\\n\", confusion_matrix(y_test, y_pred_svm))"
   ]
  },
  {
   "cell_type": "markdown",
   "id": "bb5f8a9f",
   "metadata": {},
   "source": [
    "## 7. Visualisasi Confusion Matrix"
   ]
  },
  {
   "cell_type": "code",
   "execution_count": 16,
   "id": "7f0fdcb2",
   "metadata": {},
   "outputs": [
    {
     "data": {
      "image/png": "[encoded data removed]",
      "text/plain": [
       "<Figure size 640x480 with 2 Axes>"
      ]
     },
     "metadata": {},
     "output_type": "display_data"
    },
    {
     "data": {
      "image/png": "[encoded data removed]",
      "text/plain": [
       "<Figure size 640x480 with 2 Axes>"
      ]
     },
     "metadata": {},
     "output_type": "display_data"
    }
   ],
   "source": [
    "for model, name in [(catb, 'CatBoost'), (svm, 'SVM')]:\n",
    "    ConfusionMatrixDisplay.from_estimator(model, X_test, y_test)\n",
    "    plt.title(f'Confusion Matrix - {name}')\n",
    "    plt.show()"
   ]
  },
  {
   "cell_type": "markdown",
   "id": "ce2061c6",
   "metadata": {},
   "source": [
    "## 8. Kesimpulan dan Rekomendasi\n",
    "\n",
    "### Perbandingan Kinerja Model:\n",
    "\n",
    "# Perbandingan Hasil Modeling: CatBoost vs SVM (RBF)\n",
    "\n",
    "## 1. Ringkasan Metrik\n",
    "\n",
    "| Metrik / Model          | CatBoost         | SVM (RBF)        |\n",
    "|-------------------------|------------------|------------------|\n",
    "| **Accuracy**            | 0.99             | 0.95             |\n",
    "| **Precision (kelas 0)** | 0.96             | 0.82             |\n",
    "| **Recall (kelas 0)**    | 0.97             | 0.97             |\n",
    "| **F1-score (kelas 0)**  | 0.97             | 0.89             |\n",
    "| **Precision (kelas 1)** | 0.99             | 0.99             |\n",
    "| **Recall (kelas 1)**    | 0.99             | 0.94             |\n",
    "| **F1-score (kelas 1)**  | 0.99             | 0.97             |\n",
    "| **False Positives (FP)**| 2                | 2                |\n",
    "| **False Negatives (FN)**| 3                | 17               |\n",
    "\n",
    "## 2. Interpretasi Hasil\n",
    "\n",
    "- **Accuracy**  \n",
    "  CatBoost mencapai 99 % akurasi, sedangkan SVM “hanya” 95 %. Artinya CatBoost berhasil mengklasifikasi hampir semua sampel dengan benar.\n",
    "\n",
    "- **Precision & Recall Kelas 0**  \n",
    "  - _CatBoost_—precision 0.96, recall 0.97: dari 77 sampel kelas 0, hanya 2 yang salah klasifikasi sebagai kelas 1 (FP), dan 3 sampel kelas 1 yang “tersangkut” sebagai kelas 0 (FN).  \n",
    "  - _SVM_—precision 0.82, recall 0.97: meski recall-nya sama dengan CatBoost, precision jauh lebih rendah (hanya 82 %) karena banyak sampel kelas 1 (“Tidak Baik”) yang keliru diprediksi sebagai kelas 0 (17 FN).\n",
    "\n",
    "- **Precision & Recall Kelas 1**  \n",
    "  - _CatBoost_—precision & recall 0.99: sangat kuat dalam mendeteksi kategori “Tidak Baik” tanpa banyak salah prediksi.  \n",
    "  - _SVM_—precision 0.99, recall 0.94: presisinya masih tinggi, namun recall sedikit menurun karena 17 sampel “Tidak Baik” tertinggal (FN).\n",
    "\n",
    "- **Confusion Matrix**  \n",
    "  - *CatBoost* menunjukkan matrix [[75, 2], [3, 286]]:\n",
    "    - **True Negatives (TN)** = 75: sampel “Baik” terdeteksi benar.  \n",
    "    - **False Positives (FP)** = 2: sampel “Baik” yang salah diprediksi “Tidak Baik”.  \n",
    "    - **False Negatives (FN)** = 3: sampel “Tidak Baik” yang salah diprediksi “Baik”.  \n",
    "    - **True Positives (TP)** = 286: sampel “Tidak Baik” terdeteksi benar.   \n",
    "\n",
    "  - *SVM* menunjukkan matrix [[75, 2], [17, 272]]: \n",
    "    - **TN** = 75, **FP** = 2 sama seperti CatBoost untuk kelas “Baik”.  \n",
    "    - **FN** = 17: jauh lebih banyak sampel “Tidak Baik” yang tertahan.  \n",
    "    - **TP** = 272: sedikit menurun dibanding CatBoost.  \n",
    "\n",
    "FN yang lebih sedikit di CatBoost menunjukkan kemampuannya yang lebih baik dalam menangkap kasus “Tidak Baik” (kelas minoritas), sehingga recall dan F1-score-nya lebih tinggi.\n",
    "\n",
    "## 3. Kesimpulan\n",
    "\n",
    "1. **CatBoost unggul** secara keseluruhan dengan akurasi, precision, recall, dan F1-score yang lebih tinggi di kedua kelas.  \n",
    "2. **SVM (RBF)** masih cukup baik, tetapi cenderung “mengabaikan” lebih banyak sampel kelas 1, sehingga recall kelas 1 dan precision kelas 0 menurun.\n",
    "\n",
    "## 4. Alasan Perbedaan Hasil\n",
    "\n",
    "- **Algoritma & Tree-Based vs Kernel-Based**  \n",
    "  CatBoost (tree-based gradient boosting) secara natural menangani fitur kategori dan outlier dengan lebih robust, sedangkan SVM (RBF) sangat sensitif ke pemilihan kernel, skala fitur, dan distribusi data.\n",
    "\n",
    "- **Penanganan Imbalance & Regularisasi**  \n",
    "  CatBoost memiliki mekanisme built-in untuk menangani kelas tidak seimbang dan overfitting (misalnya ordered boosting), sementara SVM perlu tuning parameter `C`, kernel dan scaling yang tepat agar tidak underfit/overfit.\n",
    "\n",
    "- **Hyperparameter Default**  \n",
    "  CatBoost seringkali memberikan performa kuat bahkan dengan hyperparameter default, sementara SVM membutuhkan pencarian grid (e.g. `C`, `gamma`) untuk mencapai hasil optimal.\n",
    "\n",
    "---\n",
    "\n",
    "> **Rekomendasi**: Jika goal-mu adalah memaksimalkan"
   ]
  }
 ],
 "metadata": {
  "kernelspec": {
   "display_name": "base",
   "language": "python",
   "name": "python3"
  },
  "language_info": {
   "codemirror_mode": {
    "name": "ipython",
    "version": 3
   },
   "file_extension": ".py",
   "mimetype": "text/x-python",
   "name": "python",
   "nbconvert_exporter": "python",
   "pygments_lexer": "ipython3",
   "version": "3.12.7"
  }
 },
 "nbformat": 4,
 "nbformat_minor": 5
}
